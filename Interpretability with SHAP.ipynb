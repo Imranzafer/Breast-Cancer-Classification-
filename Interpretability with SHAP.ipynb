{
 "cells": [
  {
   "cell_type": "code",
   "execution_count": null,
   "id": "11d63035-b384-4542-a238-42e664ae65b5",
   "metadata": {},
   "outputs": [],
   "source": [
    "import keras_tuner as kt\n",
    "\n",
    "# Define a model-building function for Keras Tuner\n",
    "def build_model(hp):\n",
    "    base_model = ResNet50(weights='imagenet', include_top=False, input_shape=(224, 224, 3))\n",
    "    for layer in base_model.layers:\n",
    "        layer.trainable = False\n",
    "    \n",
    "    x = Flatten()(base_model.output)\n",
    "    x = Dense(hp.Int('units', min_value=64, max_value=512, step=64), activation='relu')(x)\n",
    "    x = Dropout(hp.Float('dropout', min_value=0.2, max_value=0.5, step=0.1))(x)\n",
    "    output = Dense(2, activation='softmax')(x)\n",
    "    \n",
    "    model = Model(inputs=base_model.input, outputs=output)\n",
    "    model.compile(\n",
    "        optimizer=Adam(learning_rate=hp.Choice('learning_rate', values=[1e-3, 1e-4, 1e-5])),\n",
    "        loss='categorical_crossentropy',\n",
    "        metrics=['accuracy']\n",
    "    )\n",
    "    return model\n",
    "\n",
    "# Instantiate Keras Tuner\n",
    "tuner = kt.Hyperband(\n",
    "    build_model,\n",
    "    objective='val_accuracy',\n",
    "    max_epochs=20,\n",
    "    directory='my_dir',\n",
    "    project_name='breast_cancer_tuning'\n",
    ")\n",
    "\n",
    "# Run hyperparameter search\n",
    "tuner.search(train_generator, validation_data=validation_generator, epochs=20)\n",
    "best_hps = tuner.get_best_hyperparameters(num_trials=1)[0]\n",
    "\n",
    "print(f\"Optimal Units: {best_hps.get('units')}\")\n",
    "print(f\"Optimal Dropout: {best_hps.get('dropout')}\")\n",
    "print(f\"Optimal Learning Rate: {best_hps.get('learning_rate')}\")\n"
   ]
  },
  {
   "cell_type": "code",
   "execution_count": null,
   "id": "1b708811-4efa-4498-bca0-754f4f010032",
   "metadata": {},
   "outputs": [],
   "source": []
  }
 ],
 "metadata": {
  "kernelspec": {
   "display_name": "Python 3 (ipykernel)",
   "language": "python",
   "name": "python3"
  },
  "language_info": {
   "codemirror_mode": {
    "name": "ipython",
    "version": 3
   },
   "file_extension": ".py",
   "mimetype": "text/x-python",
   "name": "python",
   "nbconvert_exporter": "python",
   "pygments_lexer": "ipython3",
   "version": "3.12.4"
  }
 },
 "nbformat": 4,
 "nbformat_minor": 5
}
